{
 "cells": [
  {
   "cell_type": "code",
   "execution_count": 1,
   "metadata": {},
   "outputs": [],
   "source": [
    "import matplotlib.pyplot as plt\n",
    "import numpy as np\n",
    "import pickle"
   ]
  },
  {
   "cell_type": "code",
   "execution_count": null,
   "metadata": {},
   "outputs": [],
   "source": [
    "valid_acc1=[0.625,0.500,0.625,0.500,0.625,0.875,1.000,1.000,0.750,1.000,1.000,0.875,1.000,1.000,1.000]\n",
    "valid_auc1=[0.516,0.594,0.734,0.500,0.766,0.953,1.000,1.000,0.938,1.000,1.000,0.953,1.000,1.000,1.000]\n",
    "valid_loss1=[1.094, 0.710,0.632,0.894,0.515,0.351,0.317,0.262,0.254,0.165,0.288,0.273,0.078,0.194,0.140]\n",
    "\n",
    "valid_acc2=\n",
    "valid_auc2=\n",
    "valid_loss2=\n",
    "\n",
    "valid_acc3=\n",
    "valid_auc3=\n",
    "valid_loss3=\n",
    "\n",
    "valid_acc4=\n",
    "valid_auc4=\n",
    "valid_loss4=\n",
    "\n",
    "valid_acc5=\n",
    "valid_auc5=\n",
    "valid_loss5=\n",
    "\n",
    "test_acc=[0.909]\n",
    "test_auc=[0.986]"
   ]
  }
 ],
 "metadata": {
  "kernelspec": {
   "display_name": "Python 3",
   "language": "python",
   "name": "python3"
  },
  "language_info": {
   "codemirror_mode": {
    "name": "ipython",
    "version": 3
   },
   "file_extension": ".py",
   "mimetype": "text/x-python",
   "name": "python",
   "nbconvert_exporter": "python",
   "pygments_lexer": "ipython3",
   "version": "3.7.4"
  }
 },
 "nbformat": 4,
 "nbformat_minor": 2
}
