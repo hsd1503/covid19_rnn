{
 "cells": [
  {
   "cell_type": "code",
   "execution_count": 28,
   "metadata": {},
   "outputs": [],
   "source": [
    "import pandas as pd\n",
    "pd.set_option('display.max_columns', None)\n",
    "import pickle\n",
    "import numpy as np\n",
    "import matplotlib.pyplot as plt"
   ]
  },
  {
   "cell_type": "markdown",
   "metadata": {},
   "source": [
    "### data selection"
   ]
  },
  {
   "cell_type": "code",
   "execution_count": 7,
   "metadata": {},
   "outputs": [],
   "source": [
    "def is_number(s):\n",
    "    if s is None:\n",
    "        s = np.nan\n",
    "\n",
    "    try:\n",
    "        float(s)\n",
    "        return True\n",
    "    except ValueError:\n",
    "        pass\n",
    "\n",
    "    try:\n",
    "        import unicodedata\n",
    "        unicodedata.numeric(s)\n",
    "        return True\n",
    "    except (TypeError, ValueError):\n",
    "        pass\n",
    "\n",
    "    return False\n",
    "\n",
    "def read_data_cn(fname, interval, forecast):\n",
    "    \"\"\"\n",
    "    interval: interval of group data, days\n",
    "    forecast: whether the patient will die within the next forecast hours\n",
    "    \"\"\"\n",
    "\n",
    "    # read data\n",
    "    data_df = pd.read_excel(fname, encoding='gbk', index_col=[0])\n",
    "    # group by interval\n",
    "    data_df['total_period'] = data_df['出院时间'] - data_df['入院时间']\n",
    "    data_df['total_period'] = data_df['total_period'].apply(lambda x: x.days//interval)\n",
    "    data_df['period'] = data_df['出院时间'] - data_df['RE_DATE']\n",
    "    data_df['period'] = data_df['period'].apply(lambda x: x.days//interval)\n",
    "    data_df['period'] = data_df['total_period'] - data_df['period']\n",
    "    data_df = data_df.groupby(['PATIENT_ID', 'period']).last().reset_index()\n",
    "    # make outcome\n",
    "    decease = data_df['出院方式'].values # whether the patient will die in hospital\n",
    "    data_df['decease'] = decease\n",
    "    decompensation = data_df['出院时间'] - data_df['RE_DATE'] # whether the patient will die within the next 24 hours\n",
    "    decompensation = decompensation.apply(lambda x: int(x.total_seconds()/3600 < forecast))\n",
    "    data_df['decompensation'] = data_df['decease'] * decompensation\n",
    "    # make it cleaner\n",
    "    data_df = data_df.drop(['RE_DATE', '出院方式', '入院时间', '出院时间', 'total_period'], axis=1)\n",
    "    data_df = data_df.applymap(lambda x: x.replace('>', '').replace('<', '') if isinstance(x, str) else x)\n",
    "    data_df = data_df.applymap(lambda x: x if is_number(x) else -1)\n",
    "    data_df = data_df.astype(float)\n",
    "    columns = ['PATIENT_ID', 'period','decease', 'decompensation', '乳酸脱氢酶', '超敏C反应蛋白', '淋巴细胞(%)']\n",
    "    data_df = data_df[columns]\n",
    "    return data_df"
   ]
  },
  {
   "cell_type": "code",
   "execution_count": null,
   "metadata": {},
   "outputs": [],
   "source": []
  },
  {
   "cell_type": "code",
   "execution_count": 8,
   "metadata": {},
   "outputs": [],
   "source": [
    "interval = 3\n",
    "forecast = 72\n",
    "df_train = read_data_cn('data/time_series_375_prerpocess.xlsx', interval, forecast)\n",
    "df_test = read_data_cn('data/time_series_test_110_preprocess.xlsx', interval, forecast)\n",
    "\n",
    "# interpolate\n",
    "df_train = df_train.interpolate(method='linear').ffill().bfill() \n",
    "df_test = df_test.interpolate(method='linear').ffill().bfill() "
   ]
  },
  {
   "cell_type": "code",
   "execution_count": 5,
   "metadata": {},
   "outputs": [
    {
     "data": {
      "text/html": [
       "<div>\n",
       "<style scoped>\n",
       "    .dataframe tbody tr th:only-of-type {\n",
       "        vertical-align: middle;\n",
       "    }\n",
       "\n",
       "    .dataframe tbody tr th {\n",
       "        vertical-align: top;\n",
       "    }\n",
       "\n",
       "    .dataframe thead th {\n",
       "        text-align: right;\n",
       "    }\n",
       "</style>\n",
       "<table border=\"1\" class=\"dataframe\">\n",
       "  <thead>\n",
       "    <tr style=\"text-align: right;\">\n",
       "      <th></th>\n",
       "      <th>PATIENT_ID</th>\n",
       "      <th>period</th>\n",
       "      <th>decease</th>\n",
       "      <th>decompensation</th>\n",
       "      <th>乳酸脱氢酶</th>\n",
       "      <th>超敏C反应蛋白</th>\n",
       "      <th>淋巴细胞(%)</th>\n",
       "    </tr>\n",
       "  </thead>\n",
       "  <tbody>\n",
       "    <tr>\n",
       "      <td>0</td>\n",
       "      <td>1.0</td>\n",
       "      <td>0.0</td>\n",
       "      <td>0.0</td>\n",
       "      <td>0.0</td>\n",
       "      <td>306.0</td>\n",
       "      <td>43.10</td>\n",
       "      <td>22.600000</td>\n",
       "    </tr>\n",
       "    <tr>\n",
       "      <td>1</td>\n",
       "      <td>1.0</td>\n",
       "      <td>1.0</td>\n",
       "      <td>0.0</td>\n",
       "      <td>0.0</td>\n",
       "      <td>278.0</td>\n",
       "      <td>23.35</td>\n",
       "      <td>24.250000</td>\n",
       "    </tr>\n",
       "    <tr>\n",
       "      <td>2</td>\n",
       "      <td>1.0</td>\n",
       "      <td>2.0</td>\n",
       "      <td>0.0</td>\n",
       "      <td>0.0</td>\n",
       "      <td>250.0</td>\n",
       "      <td>3.60</td>\n",
       "      <td>25.900000</td>\n",
       "    </tr>\n",
       "    <tr>\n",
       "      <td>3</td>\n",
       "      <td>1.0</td>\n",
       "      <td>3.0</td>\n",
       "      <td>0.0</td>\n",
       "      <td>0.0</td>\n",
       "      <td>200.0</td>\n",
       "      <td>3.10</td>\n",
       "      <td>10.500000</td>\n",
       "    </tr>\n",
       "    <tr>\n",
       "      <td>4</td>\n",
       "      <td>1.0</td>\n",
       "      <td>5.0</td>\n",
       "      <td>0.0</td>\n",
       "      <td>0.0</td>\n",
       "      <td>206.0</td>\n",
       "      <td>2.60</td>\n",
       "      <td>25.900000</td>\n",
       "    </tr>\n",
       "    <tr>\n",
       "      <td>...</td>\n",
       "      <td>...</td>\n",
       "      <td>...</td>\n",
       "      <td>...</td>\n",
       "      <td>...</td>\n",
       "      <td>...</td>\n",
       "      <td>...</td>\n",
       "      <td>...</td>\n",
       "    </tr>\n",
       "    <tr>\n",
       "      <td>1162</td>\n",
       "      <td>374.0</td>\n",
       "      <td>1.0</td>\n",
       "      <td>1.0</td>\n",
       "      <td>1.0</td>\n",
       "      <td>1867.0</td>\n",
       "      <td>61.70</td>\n",
       "      <td>2.300000</td>\n",
       "    </tr>\n",
       "    <tr>\n",
       "      <td>1163</td>\n",
       "      <td>375.0</td>\n",
       "      <td>0.0</td>\n",
       "      <td>1.0</td>\n",
       "      <td>0.0</td>\n",
       "      <td>915.0</td>\n",
       "      <td>58.50</td>\n",
       "      <td>9.900000</td>\n",
       "    </tr>\n",
       "    <tr>\n",
       "      <td>1164</td>\n",
       "      <td>375.0</td>\n",
       "      <td>1.0</td>\n",
       "      <td>1.0</td>\n",
       "      <td>0.0</td>\n",
       "      <td>1083.5</td>\n",
       "      <td>128.00</td>\n",
       "      <td>8.833333</td>\n",
       "    </tr>\n",
       "    <tr>\n",
       "      <td>1165</td>\n",
       "      <td>375.0</td>\n",
       "      <td>2.0</td>\n",
       "      <td>1.0</td>\n",
       "      <td>0.0</td>\n",
       "      <td>1252.0</td>\n",
       "      <td>197.50</td>\n",
       "      <td>7.766667</td>\n",
       "    </tr>\n",
       "    <tr>\n",
       "      <td>1166</td>\n",
       "      <td>375.0</td>\n",
       "      <td>3.0</td>\n",
       "      <td>1.0</td>\n",
       "      <td>1.0</td>\n",
       "      <td>783.0</td>\n",
       "      <td>267.00</td>\n",
       "      <td>6.700000</td>\n",
       "    </tr>\n",
       "  </tbody>\n",
       "</table>\n",
       "<p>1167 rows × 7 columns</p>\n",
       "</div>"
      ],
      "text/plain": [
       "      PATIENT_ID  period  decease  decompensation   乳酸脱氢酶  超敏C反应蛋白    淋巴细胞(%)\n",
       "0            1.0     0.0      0.0             0.0   306.0    43.10  22.600000\n",
       "1            1.0     1.0      0.0             0.0   278.0    23.35  24.250000\n",
       "2            1.0     2.0      0.0             0.0   250.0     3.60  25.900000\n",
       "3            1.0     3.0      0.0             0.0   200.0     3.10  10.500000\n",
       "4            1.0     5.0      0.0             0.0   206.0     2.60  25.900000\n",
       "...          ...     ...      ...             ...     ...      ...        ...\n",
       "1162       374.0     1.0      1.0             1.0  1867.0    61.70   2.300000\n",
       "1163       375.0     0.0      1.0             0.0   915.0    58.50   9.900000\n",
       "1164       375.0     1.0      1.0             0.0  1083.5   128.00   8.833333\n",
       "1165       375.0     2.0      1.0             0.0  1252.0   197.50   7.766667\n",
       "1166       375.0     3.0      1.0             1.0   783.0   267.00   6.700000\n",
       "\n",
       "[1167 rows x 7 columns]"
      ]
     },
     "execution_count": 5,
     "metadata": {},
     "output_type": "execute_result"
    }
   ],
   "source": [
    "df_train"
   ]
  },
  {
   "cell_type": "code",
   "execution_count": null,
   "metadata": {},
   "outputs": [],
   "source": []
  },
  {
   "cell_type": "markdown",
   "metadata": {},
   "source": [
    "### create batch data by same length"
   ]
  },
  {
   "cell_type": "code",
   "execution_count": 11,
   "metadata": {},
   "outputs": [],
   "source": [
    "def creat_batch_data(raw_data,outfile):\n",
    "    \n",
    "    index=raw_data.groupby(['PATIENT_ID'])['decease'].count()\n",
    "    index=index.sort_values().reset_index()# sort\n",
    "    index.columns = ['PATIENT_ID', 'time_length']\n",
    "    index.head()\n",
    "    time_length_count = index.groupby(['time_length'])['PATIENT_ID'].count().reset_index()\n",
    "    time_length_count.columns=['time_length','count']\n",
    "    time_length_count.head()\n",
    "    \n",
    "    batches=[]\n",
    "    labels=[]\n",
    "    intervals=[]\n",
    "    for length in time_length_count['time_length']:\n",
    "        PID_series=index[index['time_length']==length]['PATIENT_ID'].tolist()\n",
    "        batch=[]\n",
    "        label=[]\n",
    "        interval=[]\n",
    "        n=0\n",
    "        for j in PID_series:\n",
    "            temp = raw_data[raw_data['PATIENT_ID']==j]\n",
    "            if temp['decease'].sum()==0:\n",
    "                label.append([1,0]) # survival[1,0] die[0,1]\n",
    "            else:\n",
    "                label.append([0,1])\n",
    "            features=temp.iloc[:,4:7].values.tolist() # 3 features\n",
    "            batch.append(features)\n",
    "            time=temp.iloc[:,1].values.tolist() # time interval\n",
    "            interval.append(time)\n",
    "            n+=1\n",
    "            if n%256==0: # max 256 for a batch\n",
    "                batches.append(batch)\n",
    "                labels.append(label)\n",
    "                batch=[]\n",
    "                label=[]\n",
    "        batches.append(batch)\n",
    "        labels.append(label)\n",
    "        intervals.append(interval)\n",
    "    pickle.dump(batches, open('BatchData/' +outfile+ 'Data.seqs', 'wb'), -1) \n",
    "    pickle.dump(labels, open('BatchData/' +outfile+ 'Label.seqs', 'wb'), -1) \n",
    "    pickle.dump(intervals, open('BatchData/' +outfile+ 'Interval.seqs', 'wb'), -1) "
   ]
  },
  {
   "cell_type": "code",
   "execution_count": 12,
   "metadata": {},
   "outputs": [],
   "source": [
    "creat_batch_data(df_train,'Train')\n",
    "creat_batch_data(df_test,'Test')"
   ]
  },
  {
   "cell_type": "code",
   "execution_count": null,
   "metadata": {},
   "outputs": [],
   "source": []
  },
  {
   "cell_type": "code",
   "execution_count": 13,
   "metadata": {},
   "outputs": [],
   "source": [
    "path_string = 'BatchData/TestData.seqs'\n",
    "with open(path_string,'rb') as f:\n",
    "    a = pickle.load(f)"
   ]
  },
  {
   "cell_type": "code",
   "execution_count": 14,
   "metadata": {},
   "outputs": [
    {
     "data": {
      "text/plain": [
       "[[[195.0, 0.9, 35.5]],\n",
       " [[248.0, 1.4, 19.6]],\n",
       " [[178.0, 0.9, 35.8]],\n",
       " [[166.0, 1.6, 39.2]],\n",
       " [[342.0, 2.9, 11.0]],\n",
       " [[181.0, 16.6, 23.9]],\n",
       " [[178.0, 1.0, 48.1]],\n",
       " [[186.0, 1.6, 23.2]]]"
      ]
     },
     "execution_count": 14,
     "metadata": {},
     "output_type": "execute_result"
    }
   ],
   "source": [
    "a[0]"
   ]
  },
  {
   "cell_type": "code",
   "execution_count": null,
   "metadata": {},
   "outputs": [],
   "source": []
  },
  {
   "cell_type": "code",
   "execution_count": null,
   "metadata": {},
   "outputs": [],
   "source": [
    "def is_number(s):\n",
    "    if s is None:\n",
    "        s = np.nan\n",
    "\n",
    "    try:\n",
    "        float(s)\n",
    "        return True\n",
    "    except ValueError:\n",
    "        pass\n",
    "\n",
    "    try:\n",
    "        import unicodedata\n",
    "        unicodedata.numeric(s)\n",
    "        return True\n",
    "    except (TypeError, ValueError):\n",
    "        pass\n",
    "\n",
    "    return False\n",
    "\n",
    "def read_data_cn(fname, interval, forecast):\n",
    "    \"\"\"\n",
    "    interval: interval of group data, days\n",
    "    forecast: whether the patient will die within the next forecast hours\n",
    "    \"\"\"\n",
    "\n",
    "    # read data\n",
    "    data_df = pd.read_excel(fname, encoding='gbk', index_col=[0])\n",
    "    # group by interval\n",
    "    data_df['total_period'] = data_df['出院时间'] - data_df['入院时间']\n",
    "    data_df['total_period'] = data_df['total_period'].apply(lambda x: x.days//interval)\n",
    "    data_df['period'] = data_df['出院时间'] - data_df['RE_DATE']\n",
    "    data_df['period'] = data_df['period'].apply(lambda x: x.days//interval)\n",
    "    data_df['period'] = data_df['total_period'] - data_df['period']\n",
    "    data_df = data_df.groupby(['PATIENT_ID', 'period']).last().reset_index()\n",
    "    # make outcome\n",
    "    decease = data_df['出院方式'].values # whether the patient will die in hospital\n",
    "    data_df['decease'] = decease\n",
    "    decompensation = data_df['出院时间'] - data_df['RE_DATE'] # whether the patient will die within the next 24 hours\n",
    "    decompensation = decompensation.apply(lambda x: int(x.total_seconds()/3600 < forecast))\n",
    "    data_df['decompensation'] = data_df['decease'] * decompensation\n",
    "    # make it cleaner\n",
    "    data_df = data_df.drop(['RE_DATE', '出院方式', '入院时间', '出院时间', 'total_period'], axis=1)\n",
    "    data_df = data_df.applymap(lambda x: x.replace('>', '').replace('<', '') if isinstance(x, str) else x)\n",
    "    data_df = data_df.applymap(lambda x: x if is_number(x) else -1)\n",
    "    data_df = data_df.astype(float)\n",
    "    columns = ['PATIENT_ID', 'period','decease', 'decompensation', '乳酸脱氢酶', '超敏C反应蛋白', '淋巴细胞(%)']\n",
    "    data_df = data_df[columns]\n",
    "    return data_df"
   ]
  },
  {
   "cell_type": "code",
   "execution_count": null,
   "metadata": {},
   "outputs": [],
   "source": []
  },
  {
   "cell_type": "markdown",
   "metadata": {},
   "source": [
    "### dataset statistics"
   ]
  },
  {
   "cell_type": "code",
   "execution_count": 212,
   "metadata": {},
   "outputs": [],
   "source": [
    "data_df = pd.read_excel('data/time_series_375_prerpocess.xlsx', encoding='gbk', index_col=[0])"
   ]
  },
  {
   "cell_type": "code",
   "execution_count": 26,
   "metadata": {},
   "outputs": [],
   "source": [
    "# sample length count\n",
    "count=data_df.groupby(['PATIENT_ID'])['RE_DATE'].count().reset_index()\n",
    "sum_count=count.groupby(['RE_DATE']).count().reset_index()\n",
    "sample_length=sum_count['RE_DATE'].tolist()\n",
    "sample_length_count=sum_count['PATIENT_ID'].tolist()"
   ]
  },
  {
   "cell_type": "code",
   "execution_count": 40,
   "metadata": {},
   "outputs": [
    {
     "name": "stdout",
     "output_type": "stream",
     "text": [
      "16.282666666666668 6106.0\n"
     ]
    }
   ],
   "source": [
    "# average length\n",
    "total=0.0\n",
    "counts=0.0\n",
    "for i in range(len(sample_length)):\n",
    "    total=total+sample_length[i]*sample_length_count[i]\n",
    "    counts=counts+sample_length_count[i]\n",
    "print(total/counts,total)"
   ]
  },
  {
   "cell_type": "code",
   "execution_count": 36,
   "metadata": {},
   "outputs": [
    {
     "data": {
      "image/png": "[encoded data removed]",
      "text/plain": [
       "<Figure size 648x432 with 1 Axes>"
      ]
     },
     "metadata": {
      "needs_background": "light"
     },
     "output_type": "display_data"
    }
   ],
   "source": [
    "plt.figure(figsize=(9,6))\n",
    "plt.bar(sample_length,sample_length_count, width=0.5 , color='steelblue')\n",
    "plt.ylabel('Count')\n",
    "plt.xlabel('Sample length')\n",
    "plt.savefig('sample_length.jpg', dpi=300)\n",
    "plt.show()"
   ]
  },
  {
   "cell_type": "code",
   "execution_count": 204,
   "metadata": {},
   "outputs": [],
   "source": [
    "# missing rate\n",
    "def missing_rate(data_df):\n",
    "    missing_count=0.0\n",
    "    for index, row in data_df.iterrows():\n",
    "        for i in range(2,76):\n",
    "            if(np.isnan(row[i])):\n",
    "                missing_count=missing_count+1\n",
    "    missing_rate=   missing_count / (data_df.shape[0]*74)\n",
    "    return missing_rate\n",
    "\n",
    "# group by interval \n",
    "def read_data_with_interval(interval,data_df,o_columns):\n",
    "    # group by interval\n",
    "    a=data_df\n",
    "    a['total_period'] = a['出院时间'] - a['入院时间']\n",
    "    a['total_period'] = a['total_period'].apply(lambda x: x.days//interval)\n",
    "    a['period'] = a['出院时间'] - a['RE_DATE']\n",
    "    a['period'] = a['period'].apply(lambda x: x.days//interval)\n",
    "    a['period'] = a['total_period'] - a['period']\n",
    "    a = a.groupby(['PATIENT_ID', 'period']).last().reset_index()\n",
    "    # make it cleaner\n",
    "    a = a.drop(['RE_DATE', '出院方式', '入院时间', '出院时间', 'total_period'], axis=1)\n",
    "    columns = ['PATIENT_ID', 'period']\n",
    "    columns.extend(o_columns)\n",
    "    a = a[columns]\n",
    "    return a"
   ]
  },
  {
   "cell_type": "code",
   "execution_count": 213,
   "metadata": {},
   "outputs": [],
   "source": [
    "o_columns=data_df.columns.values.tolist()[6:]\n",
    "mrs=[]\n",
    "for i in range(1,8):\n",
    "    df=read_data_with_interval(i,data_df,o_columns)\n",
    "    mr=missing_rate(df)\n",
    "    mrs.append(mr)"
   ]
  },
  {
   "cell_type": "code",
   "execution_count": 219,
   "metadata": {},
   "outputs": [
    {
     "data": {
      "image/png": "[encoded data removed]",
      "text/plain": [
       "<Figure size 360x360 with 1 Axes>"
      ]
     },
     "metadata": {
      "needs_background": "light"
     },
     "output_type": "display_data"
    }
   ],
   "source": [
    "x=[1,2,3,4,5,6,7]\n",
    "plt.figure(figsize=(5,5))\n",
    "plt.plot(x,mrs,c='black',marker='o')\n",
    "plt.xlabel('Interval (days)')\n",
    "plt.ylabel('Missing rate')\n",
    "#plt.gca().set_ylim(0,1)\n",
    "plt.savefig('missing_rate.jpg', dpi=300)"
   ]
  },
  {
   "cell_type": "code",
   "execution_count": null,
   "metadata": {},
   "outputs": [],
   "source": []
  }
 ],
 "metadata": {
  "kernelspec": {
   "display_name": "Python 3",
   "language": "python",
   "name": "python3"
  },
  "language_info": {
   "codemirror_mode": {
    "name": "ipython",
    "version": 3
   },
   "file_extension": ".py",
   "mimetype": "text/x-python",
   "name": "python",
   "nbconvert_exporter": "python",
   "pygments_lexer": "ipython3",
   "version": "3.7.4"
  }
 },
 "nbformat": 4,
 "nbformat_minor": 2
}
